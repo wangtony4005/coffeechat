{
 "cells": [
  {
   "cell_type": "code",
   "execution_count": 52,
   "metadata": {},
   "outputs": [],
   "source": [
    "#import all libraries\n",
    "import pandas as pd\n",
    "import numpy as np\n",
    "import matplotlib.pyplot as plt\n",
    "import seaborn as sns\n",
    "import os\n",
    "import sys\n",
    "import datetime\n",
    "import time"
   ]
  },
  {
   "cell_type": "code",
   "execution_count": 53,
   "metadata": {},
   "outputs": [],
   "source": [
    "#read in the file \n",
    "file_name = \"../data/job_descriptions.csv\"\n",
    "df = pd.read_csv(file_name)\n"
   ]
  },
  {
   "cell_type": "code",
   "execution_count": 54,
   "metadata": {},
   "outputs": [
    {
     "data": {
      "text/plain": [
       "(1615940, 23)"
      ]
     },
     "execution_count": 54,
     "metadata": {},
     "output_type": "execute_result"
    }
   ],
   "source": [
    "#check the head and shape of the data\n",
    "df.head\n",
    "df.shape"
   ]
  },
  {
   "cell_type": "code",
   "execution_count": 55,
   "metadata": {},
   "outputs": [
    {
     "data": {
      "text/plain": [
       "(1615940, 23)"
      ]
     },
     "execution_count": 55,
     "metadata": {},
     "output_type": "execute_result"
    }
   ],
   "source": [
    "#check the columns\n",
    "# Index(['Job Id', 'Experience', 'Qualifications', 'Salary Range', 'location',\n",
    "#        'Country', 'latitude', 'longitude', 'Work Type', 'Company Size',\n",
    "#        'Job Posting Date', 'Preference', 'Contact Person', 'Contact',\n",
    "#        'Job Title', 'Role', 'Job Portal', 'Job Description', 'Benefits',\n",
    "#        'skills', 'Responsibilities', 'Company', 'Company Profile'],\n",
    "#       dtype='object')\n",
    "df.columns\n",
    "df.dtypes\n",
    "#company profile has 5478 na's\n",
    "df.isna().sum()\n",
    "df.shape"
   ]
  },
  {
   "cell_type": "code",
   "execution_count": 56,
   "metadata": {},
   "outputs": [
    {
     "data": {
      "text/plain": [
       "Job Id              0\n",
       "Experience          0\n",
       "Qualifications      0\n",
       "Salary Range        0\n",
       "location            0\n",
       "Country             0\n",
       "latitude            0\n",
       "longitude           0\n",
       "Work Type           0\n",
       "Company Size        0\n",
       "Job Posting Date    0\n",
       "Preference          0\n",
       "Contact Person      0\n",
       "Contact             0\n",
       "Job Title           0\n",
       "Role                0\n",
       "Job Portal          0\n",
       "Job Description     0\n",
       "Benefits            0\n",
       "skills              0\n",
       "Responsibilities    0\n",
       "Company             0\n",
       "Company Profile     0\n",
       "dtype: int64"
      ]
     },
     "execution_count": 56,
     "metadata": {},
     "output_type": "execute_result"
    }
   ],
   "source": [
    "#drop the na's in the company profile columns\n",
    "df = df.dropna(subset=['Company Profile'])\n",
    "df.shape\n",
    "df.isna().sum()"
   ]
  },
  {
   "cell_type": "code",
   "execution_count": 57,
   "metadata": {},
   "outputs": [
    {
     "data": {
      "text/plain": [
       "(1610462, 7)"
      ]
     },
     "execution_count": 57,
     "metadata": {},
     "output_type": "execute_result"
    }
   ],
   "source": [
    "#only keep experience, qualificatioms, location, job title, role, job descritpion, and company\n",
    "df = df[['Experience', 'Qualifications', 'location', 'Job Title', 'Role', 'Job Description', 'Company']]\n",
    "df.head(5)\n",
    "df.shape"
   ]
  },
  {
   "cell_type": "code",
   "execution_count": 58,
   "metadata": {},
   "outputs": [
    {
     "data": {
      "text/plain": [
       "array(['Digital Marketing Specialist', 'Web Developer',\n",
       "       'Operations Manager', 'Network Engineer', 'Event Manager',\n",
       "       'Software Tester', 'Teacher', 'UX/UI Designer', 'Wedding Planner',\n",
       "       'QA Analyst', 'Litigation Attorney', 'Mechanical Engineer',\n",
       "       'Network Administrator', 'Account Manager', 'Brand Manager',\n",
       "       'Social Worker', 'Social Media Coordinator',\n",
       "       'Email Marketing Specialist', 'HR Generalist', 'Legal Assistant',\n",
       "       'Nurse Practitioner', 'Account Director', 'Software Engineer',\n",
       "       'Purchasing Agent', 'Sales Consultant', 'Civil Engineer',\n",
       "       'Network Security Specialist', 'UI Developer', 'Financial Planner',\n",
       "       'Event Planner', 'Psychologist', 'Electrical Designer',\n",
       "       'Data Analyst', 'Technical Writer', 'Tax Consultant',\n",
       "       'Account Executive', 'Systems Administrator',\n",
       "       'Database Administrator', 'Research Analyst', 'Data Entry Clerk',\n",
       "       'Registered Nurse', 'Investment Analyst', 'Speech Therapist',\n",
       "       'Sales Manager', 'Landscape Architect', 'Key Account Manager',\n",
       "       'UX Researcher', 'Investment Banker', 'IT Support Specialist',\n",
       "       'Art Director', 'Software Developer', 'Project Manager',\n",
       "       'Customer Service Manager', 'Procurement Manager',\n",
       "       'Substance Abuse Counselor', 'Supply Chain Analyst',\n",
       "       'Data Engineer', 'Accountant', 'Sales Representative',\n",
       "       'Environmental Consultant', 'Electrical Engineer',\n",
       "       'Systems Engineer', 'Art Teacher', 'Human Resources Manager',\n",
       "       'Inventory Analyst', 'Legal Counsel', 'Database Developer',\n",
       "       'Procurement Specialist', 'Systems Analyst', 'Copywriter',\n",
       "       'Content Writer', 'HR Coordinator', 'Business Development Manager',\n",
       "       'Java Developer', 'Supply Chain Manager', 'Event Coordinator',\n",
       "       'Family Nurse Practitioner', 'Front-End Engineer',\n",
       "       'Customer Success Manager', 'Procurement Coordinator',\n",
       "       'Urban Planner', 'Architectural Designer', 'Financial Analyst',\n",
       "       'Environmental Engineer', 'Back-End Developer',\n",
       "       'Structural Engineer', 'Market Research Analyst',\n",
       "       'Customer Service Representative', 'Customer Support Specialist',\n",
       "       'Business Analyst', 'Social Media Manager', 'Family Lawyer',\n",
       "       'Chemical Analyst', 'Network Technician', 'Interior Designer',\n",
       "       'Software Architect', 'Nurse Manager', 'Veterinarian',\n",
       "       'Process Engineer', 'IT Manager', 'Quality Assurance Analyst',\n",
       "       'Pharmaceutical Sales Representative', 'Office Manager',\n",
       "       'Architect', 'Physician Assistant', 'Marketing Director',\n",
       "       'Front-End Developer', 'Research Scientist', 'Executive Assistant',\n",
       "       'HR Manager', 'Marketing Manager', 'Public Relations Specialist',\n",
       "       'Financial Controller', 'Investment Advisor', 'Aerospace Engineer',\n",
       "       'Marketing Analyst', 'Paralegal', 'Landscape Designer',\n",
       "       'Web Designer', 'Occupational Therapist', 'Legal Advisor',\n",
       "       'Marketing Coordinator', 'Dental Hygienist', 'SEM Specialist',\n",
       "       'SEO Specialist', 'Pediatrician', 'QA Engineer', 'Data Scientist',\n",
       "       'Financial Advisor', 'Personal Assistant', 'SEO Analyst',\n",
       "       'Network Analyst', 'Mechanical Designer', 'Marketing Specialist',\n",
       "       'Graphic Designer', 'Finance Manager', 'Physical Therapist',\n",
       "       'Product Designer', 'Administrative Assistant', 'Brand Ambassador',\n",
       "       'Project Coordinator', 'Product Manager', 'IT Administrator',\n",
       "       'Sales Associate', 'Chemical Engineer', 'Legal Secretary',\n",
       "       'Market Analyst'], dtype=object)"
      ]
     },
     "execution_count": 58,
     "metadata": {},
     "output_type": "execute_result"
    }
   ],
   "source": [
    "# #check the unique values in the experience column\n",
    "df['Experience'].unique()\n",
    "# #check the unique values in the qualifications column\n",
    "# df.dtypes\n",
    "df['Qualifications'].unique()\n",
    "\n",
    "df['Job Title'].unique()\n"
   ]
  },
  {
   "cell_type": "code",
   "execution_count": 59,
   "metadata": {},
   "outputs": [
    {
     "data": {
      "text/plain": [
       "Index(['Experience', 'Qualifications', 'location', 'Job_Title', 'Role',\n",
       "       'Job_Description', 'Company'],\n",
       "      dtype='object')"
      ]
     },
     "execution_count": 59,
     "metadata": {},
     "output_type": "execute_result"
    }
   ],
   "source": [
    "#Rname the columns names(Those with spaces)\n",
    "df.columns = df.columns.str.replace(' ', '_')\n",
    "df.columns"
   ]
  },
  {
   "cell_type": "code",
   "execution_count": 60,
   "metadata": {},
   "outputs": [
    {
     "name": "stdout",
     "output_type": "stream",
     "text": [
      "Data types after conversion:\n",
      "Experience         object\n",
      "Qualifications     object\n",
      "location           object\n",
      "Job_Title          object\n",
      "Role               object\n",
      "Job_Description    object\n",
      "Company            object\n",
      "dtype: object\n",
      "5 to 15 Years  is type  <class 'str'>\n",
      "2 to 12 Years  is type  <class 'str'>\n",
      "0 to 12 Years  is type  <class 'str'>\n",
      "4 to 11 Years  is type  <class 'str'>\n",
      "1 to 12 Years  is type  <class 'str'>\n"
     ]
    }
   ],
   "source": [
    "# convert each column to appropriate data type\n",
    "df['Experience'] = df['Experience'].astype(str)\n",
    "df['Qualifications'] = df['Qualifications'].astype(str)\n",
    "df['location'] = df['location'].astype(str)\n",
    "df['Job_Title'] = df['Job_Title'].astype(str)\n",
    "df['Role'] = df['Role'].astype(str)\n",
    "df['Job_Description'] = df['Job_Description'].astype(str)\n",
    "df['Company'] = df['Company'].astype(str)\n",
    "\n",
    "\n",
    "# Verify the conversion\n",
    "print(\"Data types after conversion:\")\n",
    "print(df.dtypes)\n",
    "\n",
    "for i in range(5):\n",
    "    print(df['Experience'][i], \" is type \", type(df['Experience'][i]))\n",
    "# df['Experience'] = df['Experience'].astype(str)\n",
    "# df['Qualifications'] = df['Qualifications'].astype(str)\n",
    "# df.dtypes"
   ]
  },
  {
   "cell_type": "code",
   "execution_count": 61,
   "metadata": {},
   "outputs": [],
   "source": [
    "#save file to folder path \n",
    "df.to_csv('../data/cleaned_job_descriptions.csv', index = False, sep=',', encoding='utf-8')\n",
    "\n"
   ]
  }
 ],
 "metadata": {
  "kernelspec": {
   "display_name": "base",
   "language": "python",
   "name": "python3"
  },
  "language_info": {
   "codemirror_mode": {
    "name": "ipython",
    "version": 3
   },
   "file_extension": ".py",
   "mimetype": "text/x-python",
   "name": "python",
   "nbconvert_exporter": "python",
   "pygments_lexer": "ipython3",
   "version": "3.12.4"
  }
 },
 "nbformat": 4,
 "nbformat_minor": 2
}
