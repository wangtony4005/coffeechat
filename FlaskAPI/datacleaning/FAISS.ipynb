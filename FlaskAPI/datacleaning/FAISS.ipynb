{
 "cells": [
  {
   "cell_type": "code",
   "execution_count": 13,
   "metadata": {},
   "outputs": [],
   "source": [
    "import pandas as pd\n",
    "try:\n",
    "    from sentence_transformers import SentenceTransformer\n",
    "except:\n",
    "    !pip install sentence_transformers\n",
    "    from sentence_transformers import SentenceTransformer\n",
    "import faiss"
   ]
  },
  {
   "cell_type": "code",
   "execution_count": 14,
   "metadata": {},
   "outputs": [],
   "source": [
    "df = pd.read_csv(\"../data/cleaned_job_descriptions.csv\")"
   ]
  },
  {
   "cell_type": "code",
   "execution_count": 15,
   "metadata": {},
   "outputs": [
    {
     "name": "stdout",
     "output_type": "stream",
     "text": [
      "2 to 12 Years BCA Ashgabat Web Developer Frontend Web Developer Frontend Web Developers design and implement user interfaces for websites, ensuring they are visually appealing and user-friendly. They collaborate with designers and backend developers to create seamless web experiences for users. PNC Financial Services Group\n"
     ]
    }
   ],
   "source": [
    "#confirm that the number of lines is equal to the number of rows in the dataframe\n",
    "# df = df.drop_duplicates()\n",
    "# df['Role'].unique()\n",
    "# roles_to_keep = ['Frontend Web Developer', 'Wireless Network Engineer', 'User Interface Designer', 'Front-End Developer', 'IT Support Specialist', 'Database Developer', 'Social Science Researcher', 'Record Keeper',\n",
    "#        'Staff Nurse', 'International Tax Consultant', 'Risk Analyst',\n",
    "#        'Speech Pathologist', 'Regional Sales Director',\n",
    "#        'Mental Health Counselor', 'Urban Planner',\n",
    "#        'Strategic Account Manager', 'User Researcher',\n",
    "#        'Financial Analyst', 'Desktop Support Technician' ]\n",
    "\n",
    "# df = df[df['Role'].isin(roles_to_keep)]\n",
    "# df['Role'].unique()\n",
    "# df.shape\n",
    "\n",
    "# df\n",
    "\n",
    "#(1610462, 7)\n",
    "#shape after filtering to keep only the roles we are interested in\n",
    "#(86322, 7)\n",
    "lines = []\n",
    "for index, row in df.iterrows():\n",
    "    row_string = \" \".join(row.astype(str))  # Convert each value to string and join\n",
    "    lines.append(row_string)\n",
    "\n",
    "print(lines[0])\n"
   ]
  },
  {
   "cell_type": "code",
   "execution_count": 16,
   "metadata": {},
   "outputs": [
    {
     "data": {
      "application/vnd.jupyter.widget-view+json": {
       "model_id": "cb469cc9c0e149dbad28248532105a4a",
       "version_major": 2,
       "version_minor": 0
      },
      "text/plain": [
       "Batches:   0%|          | 0/2698 [00:00<?, ?it/s]"
      ]
     },
     "metadata": {},
     "output_type": "display_data"
    },
    {
     "data": {
      "text/plain": [
       "(86327, 384)"
      ]
     },
     "execution_count": 16,
     "metadata": {},
     "output_type": "execute_result"
    }
   ],
   "source": [
    "model = SentenceTransformer('paraphrase-MiniLM-L6-v2')\n",
    "embeddings = model.encode(lines, show_progress_bar=True)\n",
    "embeddings.shape"
   ]
  },
  {
   "cell_type": "code",
   "execution_count": null,
   "metadata": {},
   "outputs": [
    {
     "name": "stdout",
     "output_type": "stream",
     "text": [
      "<class 'faiss.swigfaiss.IndexFlatL2'>\n",
      "type of model <class 'sentence_transformers.SentenceTransformer.SentenceTransformer'>\n",
      "type of index <class 'faiss.swigfaiss.IndexFlatL2'>\n"
     ]
    },
    {
     "data": {
      "text/plain": [
       "['../model/model.joblib']"
      ]
     },
     "execution_count": 29,
     "metadata": {},
     "output_type": "execute_result"
    }
   ],
   "source": [
    "d = embeddings.shape[1]\n",
    "index = faiss.IndexFlatL2(d)\n",
    "index.add(embeddings)\n",
    "index.is_trained\n",
    "print(type(index))\n",
    "\n",
    "\n",
    "import joblib\n",
    "#move the model and the index to the model folder\n",
    "# print(\"type of model\", type(model))\n",
    "# print(\"type of index\", type(index))\n",
    "\n",
    "# #save using faiss\n",
    "# faiss.write_index(index, \"../model/faiss_index.faiss\")\n",
    "# #save using joblib\n",
    "# joblib.dump(model, \"../model/model.joblib\")\n"
   ]
  },
  {
   "cell_type": "code",
   "execution_count": 23,
   "metadata": {},
   "outputs": [],
   "source": [
    "k = 4\n",
    "query = \"I am a student looking for a job in the tech industry, I want to do cyber security\"\n",
    "query_embedding = model.encode(query)\n",
    "query_embedding = query_embedding.reshape(1, -1)"
   ]
  },
  {
   "cell_type": "code",
   "execution_count": 24,
   "metadata": {},
   "outputs": [
    {
     "name": "stdout",
     "output_type": "stream",
     "text": [
      "Systems Administrator \n",
      "\n",
      "\n",
      "UI Developer \n",
      "\n",
      "\n",
      "UI Developer \n",
      "\n",
      "\n",
      "Network Engineer \n",
      "\n",
      "\n"
     ]
    }
   ],
   "source": [
    "D, I = index.search(query_embedding, k)\n",
    "indices = I[0]\n",
    "upper_bound = df.shape[0]\n",
    "\n",
    "for index in indices:\n",
    "    if index < upper_bound:\n",
    "        print(df.iloc[index]['Job_Title'], '\\n\\n')\n",
    "    else:\n",
    "        print(\"No match found\")"
   ]
  },
  {
   "cell_type": "code",
   "execution_count": null,
   "metadata": {},
   "outputs": [
    {
     "name": "stdout",
     "output_type": "stream",
     "text": [
      "type of model <class 'sentence_transformers.SentenceTransformer.SentenceTransformer'>\n",
      "type of index <class 'numpy.int64'>\n"
     ]
    }
   ],
   "source": [
    "#save the model and index for later use using joblib or pickle\n",
    "import joblib\n",
    "print(\"type of model\", type(model))\n",
    "print(\"type of index\", type(index))\n",
    "\n",
    "#save using faiss\n",
    "faiss.write_index(index, \"../model/faiss_index.faiss\")\n",
    "#save using joblib\n",
    "joblib.dump(model, \"../model/model.joblib\")\n",
    "\n",
    "\n",
    "\n"
   ]
  },
  {
   "cell_type": "code",
   "execution_count": 30,
   "metadata": {},
   "outputs": [],
   "source": [
    "#save the dataframe as well\n",
    "df.to_pickle(\"../model/df.pkl\")"
   ]
  }
 ],
 "metadata": {
  "kernelspec": {
   "display_name": "base",
   "language": "python",
   "name": "python3"
  },
  "language_info": {
   "codemirror_mode": {
    "name": "ipython",
    "version": 3
   },
   "file_extension": ".py",
   "mimetype": "text/x-python",
   "name": "python",
   "nbconvert_exporter": "python",
   "pygments_lexer": "ipython3",
   "version": "3.12.4"
  }
 },
 "nbformat": 4,
 "nbformat_minor": 2
}
