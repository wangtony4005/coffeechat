{
 "cells": [
  {
   "cell_type": "markdown",
   "metadata": {},
   "source": [
    "## Import the necessary libraries and models"
   ]
  },
  {
   "cell_type": "code",
   "execution_count": 98,
   "metadata": {},
   "outputs": [],
   "source": [
    "#Libraries\n",
    "import pandas as pd \n",
    "\n",
    "\n",
    "#models\n",
    "try:\n",
    "    from sentence_transformers import SentenceTransformer\n",
    "except:\n",
    "    !pip install sentence-transformers\n",
    "    from sentence_transformers import SentenceTransformer\n",
    "import faiss"
   ]
  },
  {
   "cell_type": "markdown",
   "metadata": {},
   "source": [
    "## Read in our data so we can embedd it "
   ]
  },
  {
   "cell_type": "code",
   "execution_count": 99,
   "metadata": {},
   "outputs": [],
   "source": [
    "df = pd.read_csv('../data/cleaned_job_descriptions.csv')\n",
    "# df.head(5)\n",
    "# df.shape\n",
    "# lines = []\n",
    "# for index, row in df.iterrows():\n",
    "#     row_string = \" \".join(row.astype(str))  # Convert each value to string and join\n",
    "#     lines.append(row_string)\n",
    "\n",
    "# print(lines[:10])"
   ]
  },
  {
   "cell_type": "code",
   "execution_count": 100,
   "metadata": {},
   "outputs": [
    {
     "name": "stdout",
     "output_type": "stream",
     "text": [
      "False\n",
      "2 to 12 Years BCA Ashgabat Web Developer Frontend Web Developer Frontend Web Developers design and implement user interfaces for websites, ensuring they are visually appealing and user-friendly. They collaborate with designers and backend developers to create seamless web experiences for users. PNC Financial Services Group\n"
     ]
    }
   ],
   "source": [
    "#confirm that the number of lines is equal to the number of rows in the dataframe\n",
    "print(df.shape[0] == len(lines))\n",
    "df = df.drop_duplicates()\n",
    "df['Role'].unique()\n",
    "roles_to_keep = ['Frontend Web Developer', 'Wireless Network Engineer', 'User Interface Designer', 'Front-End Developer', 'IT Support Specialist', 'Database Developer', 'Social Science Researcher', 'Record Keeper',\n",
    "       'Staff Nurse', 'International Tax Consultant', 'Risk Analyst',\n",
    "       'Speech Pathologist', 'Regional Sales Director',\n",
    "       'Mental Health Counselor', 'Urban Planner',\n",
    "       'Strategic Account Manager', 'User Researcher',\n",
    "       'Financial Analyst', 'Desktop Support Technician' ]\n",
    "\n",
    "df = df[df['Role'].isin(roles_to_keep)]\n",
    "df['Role'].unique()\n",
    "df.shape\n",
    "\n",
    "df\n",
    "\n",
    "#(1610462, 7)\n",
    "#shape after filtering to keep only the roles we are interested in\n",
    "#(86322, 7)\n",
    "lines = []\n",
    "for index, row in df.iterrows():\n",
    "    row_string = \" \".join(row.astype(str))  # Convert each value to string and join\n",
    "    lines.append(row_string)\n",
    "\n",
    "print(lines[0])\n",
    "\n"
   ]
  },
  {
   "cell_type": "markdown",
   "metadata": {},
   "source": [
    "## Embbedd each sentence "
   ]
  },
  {
   "cell_type": "code",
   "execution_count": 101,
   "metadata": {},
   "outputs": [
    {
     "data": {
      "application/vnd.jupyter.widget-view+json": {
       "model_id": "8d067ceb8baf4788816c8fa11cb61dd1",
       "version_major": 2,
       "version_minor": 0
      },
      "text/plain": [
       "Batches:   0%|          | 0/2698 [00:00<?, ?it/s]"
      ]
     },
     "metadata": {},
     "output_type": "display_data"
    },
    {
     "data": {
      "text/plain": [
       "(86322, 384)"
      ]
     },
     "execution_count": 101,
     "metadata": {},
     "output_type": "execute_result"
    }
   ],
   "source": [
    "#embedd the sentences\n",
    "# print(df.shape)\n",
    "model = SentenceTransformer('paraphrase-MiniLM-L6-v2')\n",
    "embeddings = model.encode(lines, show_progress_bar=True )\n",
    "embeddings.shape"
   ]
  },
  {
   "cell_type": "markdown",
   "metadata": {},
   "source": [
    "## Make our Faiss Model"
   ]
  },
  {
   "cell_type": "code",
   "execution_count": 135,
   "metadata": {},
   "outputs": [
    {
     "name": "stdout",
     "output_type": "stream",
     "text": [
      "384\n"
     ]
    },
    {
     "data": {
      "text/plain": [
       "86322"
      ]
     },
     "execution_count": 135,
     "metadata": {},
     "output_type": "execute_result"
    }
   ],
   "source": [
    "d = embeddings.shape[1]\n",
    "print(d)\n",
    "index = faiss.IndexFlatL2(d)\n",
    "index.add(embeddings)\n",
    "index.is_trained\n",
    "#check length of index\n",
    "index.ntotal"
   ]
  },
  {
   "cell_type": "markdown",
   "metadata": {},
   "source": [
    "## Test with a query"
   ]
  },
  {
   "cell_type": "code",
   "execution_count": 136,
   "metadata": {},
   "outputs": [],
   "source": [
    "k = 4\n",
    "query = \"I am a college student interested in a career in software engineering\"\n",
    "query_embedding = model.encode(query)\n",
    "query_embedding = query_embedding.reshape(1, -1)\n"
   ]
  },
  {
   "cell_type": "code",
   "execution_count": null,
   "metadata": {},
   "outputs": [
    {
     "name": "stdout",
     "output_type": "stream",
     "text": [
      "[66463 82814 39667 63570] (86322, 7)\n"
     ]
    }
   ],
   "source": [
    "# %%time\n",
    "D, I = index.search(query_embedding, k)\n",
    "indices = I[0]\n",
    "print(indices, df.shape)\n",
    "upper_bound = df.shape[0]\n",
    "for index in indices:\n",
    "    if index < upper_bound:\n",
    "        print(df.iloc[index], \"\\n\\n\")\n",
    "        print(\"\\n\\n\")\n",
    "# df.iloc[I[0][152785]]\n",
    "#Go through our results and print them\n",
    "# for i in range(k):\n",
    "#     print(\"Result\", i+1)\n",
    "#     print(\"Cosine Similarity:\", 1-D[0][i])\n",
    "#     # print(\"Experience lslslsl:\", df.iloc[I[0][i]]['Experience'])\n",
    "#     print(df.iloc[I[0][i]], \"\\n\\n\")\n"
   ]
  }
 ],
 "metadata": {
  "kernelspec": {
   "display_name": "base",
   "language": "python",
   "name": "python3"
  },
  "language_info": {
   "codemirror_mode": {
    "name": "ipython",
    "version": 3
   },
   "file_extension": ".py",
   "mimetype": "text/x-python",
   "name": "python",
   "nbconvert_exporter": "python",
   "pygments_lexer": "ipython3",
   "version": "3.12.4"
  }
 },
 "nbformat": 4,
 "nbformat_minor": 2
}
