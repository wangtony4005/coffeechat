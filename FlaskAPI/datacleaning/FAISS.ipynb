{
 "cells": [
  {
   "cell_type": "code",
   "execution_count": 62,
   "metadata": {},
   "outputs": [
    {
     "name": "stderr",
     "output_type": "stream",
     "text": [
      "huggingface/tokenizers: The current process just got forked, after parallelism has already been used. Disabling parallelism to avoid deadlocks...\n",
      "To disable this warning, you can either:\n",
      "\t- Avoid using `tokenizers` before the fork if possible\n",
      "\t- Explicitly set the environment variable TOKENIZERS_PARALLELISM=(true | false)\n"
     ]
    },
    {
     "name": "stdout",
     "output_type": "stream",
     "text": [
      "Requirement already satisfied: sentence_transformers in /opt/anaconda3/lib/python3.12/site-packages (3.2.1)\n",
      "Requirement already satisfied: transformers<5.0.0,>=4.41.0 in /opt/anaconda3/lib/python3.12/site-packages (from sentence_transformers) (4.46.2)\n",
      "Requirement already satisfied: tqdm in /opt/anaconda3/lib/python3.12/site-packages (from sentence_transformers) (4.66.4)\n",
      "Requirement already satisfied: torch>=1.11.0 in /opt/anaconda3/lib/python3.12/site-packages (from sentence_transformers) (2.5.1)\n",
      "Requirement already satisfied: scikit-learn in /opt/anaconda3/lib/python3.12/site-packages (from sentence_transformers) (1.4.2)\n",
      "Requirement already satisfied: scipy in /opt/anaconda3/lib/python3.12/site-packages (from sentence_transformers) (1.13.1)\n",
      "Requirement already satisfied: huggingface-hub>=0.20.0 in /opt/anaconda3/lib/python3.12/site-packages (from sentence_transformers) (0.26.2)\n",
      "Requirement already satisfied: Pillow in /opt/anaconda3/lib/python3.12/site-packages (from sentence_transformers) (10.3.0)\n",
      "Requirement already satisfied: filelock in /opt/anaconda3/lib/python3.12/site-packages (from huggingface-hub>=0.20.0->sentence_transformers) (3.13.1)\n",
      "Requirement already satisfied: fsspec>=2023.5.0 in /opt/anaconda3/lib/python3.12/site-packages (from huggingface-hub>=0.20.0->sentence_transformers) (2024.3.1)\n",
      "Requirement already satisfied: packaging>=20.9 in /opt/anaconda3/lib/python3.12/site-packages (from huggingface-hub>=0.20.0->sentence_transformers) (23.2)\n",
      "Requirement already satisfied: pyyaml>=5.1 in /opt/anaconda3/lib/python3.12/site-packages (from huggingface-hub>=0.20.0->sentence_transformers) (6.0.1)\n",
      "Requirement already satisfied: requests in /opt/anaconda3/lib/python3.12/site-packages (from huggingface-hub>=0.20.0->sentence_transformers) (2.32.2)\n",
      "Requirement already satisfied: typing-extensions>=3.7.4.3 in /opt/anaconda3/lib/python3.12/site-packages (from huggingface-hub>=0.20.0->sentence_transformers) (4.11.0)\n",
      "Requirement already satisfied: networkx in /opt/anaconda3/lib/python3.12/site-packages (from torch>=1.11.0->sentence_transformers) (3.2.1)\n",
      "Requirement already satisfied: jinja2 in /opt/anaconda3/lib/python3.12/site-packages (from torch>=1.11.0->sentence_transformers) (3.1.4)\n",
      "Requirement already satisfied: setuptools in /opt/anaconda3/lib/python3.12/site-packages (from torch>=1.11.0->sentence_transformers) (69.5.1)\n",
      "Requirement already satisfied: sympy==1.13.1 in /opt/anaconda3/lib/python3.12/site-packages (from torch>=1.11.0->sentence_transformers) (1.13.1)\n",
      "Requirement already satisfied: mpmath<1.4,>=1.1.0 in /opt/anaconda3/lib/python3.12/site-packages (from sympy==1.13.1->torch>=1.11.0->sentence_transformers) (1.3.0)\n",
      "Requirement already satisfied: numpy>=1.17 in /opt/anaconda3/lib/python3.12/site-packages (from transformers<5.0.0,>=4.41.0->sentence_transformers) (1.26.4)\n",
      "Requirement already satisfied: regex!=2019.12.17 in /opt/anaconda3/lib/python3.12/site-packages (from transformers<5.0.0,>=4.41.0->sentence_transformers) (2023.10.3)\n",
      "Requirement already satisfied: safetensors>=0.4.1 in /opt/anaconda3/lib/python3.12/site-packages (from transformers<5.0.0,>=4.41.0->sentence_transformers) (0.4.5)\n",
      "Requirement already satisfied: tokenizers<0.21,>=0.20 in /opt/anaconda3/lib/python3.12/site-packages (from transformers<5.0.0,>=4.41.0->sentence_transformers) (0.20.3)\n",
      "Requirement already satisfied: joblib>=1.2.0 in /opt/anaconda3/lib/python3.12/site-packages (from scikit-learn->sentence_transformers) (1.4.2)\n",
      "Requirement already satisfied: threadpoolctl>=2.0.0 in /opt/anaconda3/lib/python3.12/site-packages (from scikit-learn->sentence_transformers) (2.2.0)\n",
      "Requirement already satisfied: MarkupSafe>=2.0 in /opt/anaconda3/lib/python3.12/site-packages (from jinja2->torch>=1.11.0->sentence_transformers) (2.1.3)\n",
      "Requirement already satisfied: charset-normalizer<4,>=2 in /opt/anaconda3/lib/python3.12/site-packages (from requests->huggingface-hub>=0.20.0->sentence_transformers) (2.0.4)\n",
      "Requirement already satisfied: idna<4,>=2.5 in /opt/anaconda3/lib/python3.12/site-packages (from requests->huggingface-hub>=0.20.0->sentence_transformers) (3.7)\n",
      "Requirement already satisfied: urllib3<3,>=1.21.1 in /opt/anaconda3/lib/python3.12/site-packages (from requests->huggingface-hub>=0.20.0->sentence_transformers) (2.2.2)\n",
      "Requirement already satisfied: certifi>=2017.4.17 in /opt/anaconda3/lib/python3.12/site-packages (from requests->huggingface-hub>=0.20.0->sentence_transformers) (2024.6.2)\n",
      "Note: you may need to restart the kernel to use updated packages.\n"
     ]
    }
   ],
   "source": [
    "%pip install sentence_transformers\n",
    "import pandas as pd\n",
    "from sentence_transformers import SentenceTransformer\n",
    "import faiss"
   ]
  },
  {
   "cell_type": "code",
   "execution_count": 63,
   "metadata": {},
   "outputs": [
    {
     "data": {
      "text/plain": [
       "(3449, 7)"
      ]
     },
     "execution_count": 63,
     "metadata": {},
     "output_type": "execute_result"
    }
   ],
   "source": [
    "df = pd.read_csv(\"../data/cleaned_job_descriptions.csv\")\n",
    "df.shape"
   ]
  },
  {
   "cell_type": "code",
   "execution_count": 64,
   "metadata": {},
   "outputs": [
    {
     "name": "stdout",
     "output_type": "stream",
     "text": [
      "1 to 15 Years BBA Yaounde Database Administrator Database Developer A Database Developer designs, develops, and maintains databases. They create efficient data structures, write queries, and ensure data security and integrity. News Corp.\n"
     ]
    }
   ],
   "source": [
    "#confirm that the number of lines is equal to the number of rows in the dataframe\n",
    "# df = df.drop_duplicates()\n",
    "# df['Role'].unique()\n",
    "# roles_to_keep = ['Frontend Web Developer', 'Wireless Network Engineer', 'User Interface Designer', 'Front-End Developer', 'IT Support Specialist', 'Database Developer', 'Social Science Researcher', 'Record Keeper',\n",
    "#        'Staff Nurse', 'International Tax Consultant', 'Risk Analyst',\n",
    "#        'Speech Pathologist', 'Regional Sales Director',\n",
    "#        'Mental Health Counselor', 'Urban Planner',\n",
    "#        'Strategic Account Manager', 'User Researcher',\n",
    "#        'Financial Analyst', 'Desktop Support Technician' ]\n",
    "\n",
    "# df = df[df['Role'].isin(roles_to_keep)]\n",
    "# df['Role'].unique()\n",
    "# df.shape\n",
    "\n",
    "# df\n",
    "\n",
    "#(1610462, 7)\n",
    "#shape after filtering to keep only the roles we are interested in\n",
    "#(86322, 7)\n",
    "lines = []\n",
    "for index, row in df.iterrows():\n",
    "    row_string = \" \".join(row.astype(str))  # Convert each value to string and join\n",
    "    lines.append(row_string)\n",
    "\n",
    "print(lines[0])\n"
   ]
  },
  {
   "cell_type": "code",
   "execution_count": 65,
   "metadata": {},
   "outputs": [
    {
     "data": {
      "application/vnd.jupyter.widget-view+json": {
       "model_id": "170908d794a245baac3e7db7986b318f",
       "version_major": 2,
       "version_minor": 0
      },
      "text/plain": [
       "Batches:   0%|          | 0/108 [00:00<?, ?it/s]"
      ]
     },
     "metadata": {},
     "output_type": "display_data"
    },
    {
     "data": {
      "text/plain": [
       "(3449, 384)"
      ]
     },
     "execution_count": 65,
     "metadata": {},
     "output_type": "execute_result"
    }
   ],
   "source": [
    "model = SentenceTransformer('paraphrase-MiniLM-L6-v2')\n",
    "embeddings = model.encode(lines, show_progress_bar=True)\n",
    "embeddings.shape"
   ]
  },
  {
   "cell_type": "code",
   "execution_count": 66,
   "metadata": {},
   "outputs": [
    {
     "name": "stdout",
     "output_type": "stream",
     "text": [
      "<class 'faiss.swigfaiss.IndexFlatL2'>\n"
     ]
    }
   ],
   "source": [
    "d = embeddings.shape[1]\n",
    "index = faiss.IndexFlatL2(d)\n",
    "index.add(embeddings)\n",
    "index.is_trained\n",
    "print(type(index))\n",
    "\n",
    "\n",
    "import joblib\n",
    "#move the model and the index to the model folder\n",
    "# print(\"type of model\", type(model))\n",
    "# print(\"type of index\", type(index))\n",
    "\n",
    "# #save using faiss\n",
    "# faiss.write_index(index, \"../model/faiss_index.faiss\")\n",
    "# #save using joblib\n",
    "# joblib.dump(model, \"../model/model.joblib\")\n"
   ]
  },
  {
   "cell_type": "code",
   "execution_count": 67,
   "metadata": {},
   "outputs": [],
   "source": [
    "k = 4\n",
    "query = \"I am a student looking for a job in the tech industry, I want to do cyber security\"\n",
    "query_embedding = model.encode(query)\n",
    "query_embedding = query_embedding.reshape(1, -1)"
   ]
  },
  {
   "cell_type": "code",
   "execution_count": 68,
   "metadata": {},
   "outputs": [
    {
     "name": "stdout",
     "output_type": "stream",
     "text": [
      "Database Administrator \n",
      "\n",
      "\n",
      "Database Administrator \n",
      "\n",
      "\n",
      "Database Administrator \n",
      "\n",
      "\n",
      "Database Administrator \n",
      "\n",
      "\n"
     ]
    }
   ],
   "source": [
    "D, I = index.search(query_embedding, k)\n",
    "indices = I[0]\n",
    "upper_bound = df.shape[0]\n",
    "\n",
    "for index1 in indices:\n",
    "    if index1 < upper_bound:\n",
    "        print(df.iloc[index1]['Job_Title'], '\\n\\n')\n",
    "    else:\n",
    "        print(\"No match found\")"
   ]
  },
  {
   "cell_type": "code",
   "execution_count": 69,
   "metadata": {},
   "outputs": [
    {
     "name": "stdout",
     "output_type": "stream",
     "text": [
      "type of model <class 'sentence_transformers.SentenceTransformer.SentenceTransformer'>\n",
      "type of index <class 'faiss.swigfaiss.IndexFlatL2'>\n"
     ]
    }
   ],
   "source": [
    "\n",
    "print(\"type of model\", type(model))\n",
    "print(\"type of index\", type(index))\n",
    "\n",
    "#save using faiss\n",
    "faiss.write_index(index, \"../model/faiss_index.faiss\")\n",
    "#save using joblib\n",
    "# joblib.dump(model, \"../model/model.joblib\")\n",
    "\n",
    "\n",
    "\n"
   ]
  },
  {
   "cell_type": "code",
   "execution_count": 70,
   "metadata": {},
   "outputs": [],
   "source": [
    "#save the dataframe as well\n",
    "df.to_pickle(\"../model/df.pkl\")"
   ]
  },
  {
   "cell_type": "code",
   "execution_count": 71,
   "metadata": {},
   "outputs": [
    {
     "data": {
      "text/plain": [
       "['../model/model.joblib']"
      ]
     },
     "execution_count": 71,
     "metadata": {},
     "output_type": "execute_result"
    }
   ],
   "source": [
    "#Save the model\n",
    "joblib.dump(model, \"../model/model.joblib\")\n"
   ]
  },
  {
   "cell_type": "code",
   "execution_count": 72,
   "metadata": {},
   "outputs": [
    {
     "name": "stdout",
     "output_type": "stream",
     "text": [
      "File size: 107008 bytes\n",
      "File size: 104.5 KB\n",
      "File size: 0.10205078125 MB\n",
      "Model size: 91387369 bytes\n",
      "Model size: 89245.4775390625 KB\n",
      "Model size: 87.15378665924072 MB\n",
      "Index size: 5297709 bytes\n",
      "Index size: 5173.5439453125 KB\n",
      "Index size: 5.052289009094238 MB\n"
     ]
    }
   ],
   "source": [
    "import os\n",
    "\n",
    "\n",
    "file_size = os.path.getsize(\"../model/df.pkl\")\n",
    "model_size = os.path.getsize(\"../model/model.joblib\")   \n",
    "index_size = os.path.getsize(\"../model/faiss_index.faiss\")\n",
    "# joblib.dump(model, \"../model/model.joblib\")\n",
    "\n",
    "\n",
    "# Print the file size in bytes, and convert to KB or MB if needed\n",
    "print(f\"File size: {file_size} bytes\")\n",
    "print(f\"File size: {file_size / 1024} KB\")\n",
    "print(f\"File size: {file_size / (1024 * 1024)} MB\")\n",
    "\n",
    "print(f\"Model size: {model_size} bytes\")\n",
    "print(f\"Model size: {model_size / 1024} KB\")\n",
    "print(f\"Model size: {model_size / (1024 * 1024)} MB\")\n",
    "\n",
    "\n",
    "print(f\"Index size: {index_size} bytes\")\n",
    "print(f\"Index size: {index_size / 1024} KB\")\n",
    "print(f\"Index size: {index_size / (1024 * 1024)} MB\")"
   ]
  }
 ],
 "metadata": {
  "kernelspec": {
   "display_name": "base",
   "language": "python",
   "name": "python3"
  },
  "language_info": {
   "codemirror_mode": {
    "name": "ipython",
    "version": 3
   },
   "file_extension": ".py",
   "mimetype": "text/x-python",
   "name": "python",
   "nbconvert_exporter": "python",
   "pygments_lexer": "ipython3",
   "version": "3.12.4"
  }
 },
 "nbformat": 4,
 "nbformat_minor": 2
}
