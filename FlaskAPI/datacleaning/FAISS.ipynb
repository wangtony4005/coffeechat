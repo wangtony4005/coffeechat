{
 "cells": [
  {
   "cell_type": "code",
   "execution_count": null,
   "metadata": {},
   "outputs": [],
   "source": [
    "import pandas as pd\n",
    "try:\n",
    "    from sentence_transformers import SentenceTransformer\n",
    "except:\n",
    "    !pip install sentence_transformers\n",
    "    from sentence_transformers import SentenceTransformer\n",
    "import faiss"
   ]
  },
  {
   "cell_type": "code",
   "execution_count": null,
   "metadata": {},
   "outputs": [],
   "source": [
    "df = pd.read_csv(\"../data/cleaned_data.csv\")"
   ]
  },
  {
   "cell_type": "code",
   "execution_count": null,
   "metadata": {},
   "outputs": [],
   "source": [
    "#confirm that the number of lines is equal to the number of rows in the dataframe\n",
    "print(df.shape[0] == len(lines))\n",
    "df = df.drop_duplicates()\n",
    "df['Role'].unique()\n",
    "roles_to_keep = ['Frontend Web Developer', 'Wireless Network Engineer', 'User Interface Designer', 'Front-End Developer', 'IT Support Specialist', 'Database Developer', 'Social Science Researcher', 'Record Keeper',\n",
    "       'Staff Nurse', 'International Tax Consultant', 'Risk Analyst',\n",
    "       'Speech Pathologist', 'Regional Sales Director',\n",
    "       'Mental Health Counselor', 'Urban Planner',\n",
    "       'Strategic Account Manager', 'User Researcher',\n",
    "       'Financial Analyst', 'Desktop Support Technician' ]\n",
    "\n",
    "df = df[df['Role'].isin(roles_to_keep)]\n",
    "df['Role'].unique()\n",
    "df.shape\n",
    "\n",
    "df\n",
    "\n",
    "#(1610462, 7)\n",
    "#shape after filtering to keep only the roles we are interested in\n",
    "#(86322, 7)\n",
    "lines = []\n",
    "for index, row in df.iterrows():\n",
    "    row_string = \" \".join(row.astype(str))  # Convert each value to string and join\n",
    "    lines.append(row_string)\n",
    "\n",
    "print(lines[0])\n"
   ]
  },
  {
   "cell_type": "code",
   "execution_count": null,
   "metadata": {},
   "outputs": [],
   "source": [
    "model = SentenceTransformer('paraphrase-MiniLM-L6-v2')\n",
    "embeddings = model.encode(lines, show_progress_bar=True)\n",
    "embeddings.shape"
   ]
  },
  {
   "cell_type": "code",
   "execution_count": null,
   "metadata": {},
   "outputs": [],
   "source": [
    "d = embeddings.shape[1]\n",
    "index = faiss.IndexFlatL2(d)\n",
    "index.add(embeddings)\n",
    "index.is_trained\n"
   ]
  },
  {
   "cell_type": "code",
   "execution_count": null,
   "metadata": {},
   "outputs": [],
   "source": [
    "k = 4\n",
    "query = \"I am a software engineer with 5 years of experience\"\n",
    "query_embedding = model.encode(query)\n",
    "query_embedding = query_embedding.reshape(1, -1)"
   ]
  },
  {
   "cell_type": "code",
   "execution_count": null,
   "metadata": {},
   "outputs": [],
   "source": [
    "D, I = index.search(query_embedding, k)\n",
    "indices = I[0]\n",
    "upper_bound = df.shape[0]\n",
    "\n",
    "for index in indices:\n",
    "    if index < upper_bound:\n",
    "        print(df.iloc[index], '\\n\\n')\n",
    "    else:\n",
    "        print(\"No match found\")"
   ]
  }
 ],
 "metadata": {
  "language_info": {
   "name": "python"
  }
 },
 "nbformat": 4,
 "nbformat_minor": 2
}
